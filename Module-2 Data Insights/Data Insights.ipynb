{
 "cells": [
  {
   "cell_type": "code",
   "execution_count": 1,
   "id": "vanilla-survey",
   "metadata": {},
   "outputs": [],
   "source": [
    "import pandas as pd\n",
    "import matplotlib.pyplot as plt\n",
    "import numpy as np\n",
    "import plotly.graph_objects as go\n",
    "import math\n",
    "from datetime import datetime"
   ]
  },
  {
   "cell_type": "markdown",
   "id": "derived-stick",
   "metadata": {},
   "source": [
    "## Analyzing the old customer data and finding insights from it"
   ]
  },
  {
   "cell_type": "code",
   "execution_count": 2,
   "id": "fuzzy-medicaid",
   "metadata": {},
   "outputs": [
    {
     "data": {
      "text/html": [
       "<div>\n",
       "<style scoped>\n",
       "    .dataframe tbody tr th:only-of-type {\n",
       "        vertical-align: middle;\n",
       "    }\n",
       "\n",
       "    .dataframe tbody tr th {\n",
       "        vertical-align: top;\n",
       "    }\n",
       "\n",
       "    .dataframe thead th {\n",
       "        text-align: right;\n",
       "    }\n",
       "</style>\n",
       "<table border=\"1\" class=\"dataframe\">\n",
       "  <thead>\n",
       "    <tr style=\"text-align: right;\">\n",
       "      <th></th>\n",
       "      <th>Unnamed: 0</th>\n",
       "      <th>customer_id</th>\n",
       "      <th>address</th>\n",
       "      <th>postcode</th>\n",
       "      <th>state</th>\n",
       "      <th>country</th>\n",
       "      <th>property_valuation</th>\n",
       "      <th>first_name</th>\n",
       "      <th>last_name</th>\n",
       "      <th>gender</th>\n",
       "      <th>...</th>\n",
       "      <th>online_order</th>\n",
       "      <th>order_status</th>\n",
       "      <th>brand</th>\n",
       "      <th>product_line</th>\n",
       "      <th>product_class</th>\n",
       "      <th>product_size</th>\n",
       "      <th>list_price</th>\n",
       "      <th>standard_cost</th>\n",
       "      <th>product_first_sold_date</th>\n",
       "      <th>profit</th>\n",
       "    </tr>\n",
       "  </thead>\n",
       "  <tbody>\n",
       "    <tr>\n",
       "      <th>0</th>\n",
       "      <td>0</td>\n",
       "      <td>1</td>\n",
       "      <td>060 Morning Avenue</td>\n",
       "      <td>2016</td>\n",
       "      <td>NSW</td>\n",
       "      <td>Australia</td>\n",
       "      <td>10</td>\n",
       "      <td>Laraine</td>\n",
       "      <td>Medendorp</td>\n",
       "      <td>Female</td>\n",
       "      <td>...</td>\n",
       "      <td>False</td>\n",
       "      <td>Approved</td>\n",
       "      <td>OHM Cycles</td>\n",
       "      <td>Standard</td>\n",
       "      <td>medium</td>\n",
       "      <td>medium</td>\n",
       "      <td>235.63</td>\n",
       "      <td>125.07</td>\n",
       "      <td>38482.0</td>\n",
       "      <td>110.56</td>\n",
       "    </tr>\n",
       "    <tr>\n",
       "      <th>1</th>\n",
       "      <td>1</td>\n",
       "      <td>1</td>\n",
       "      <td>060 Morning Avenue</td>\n",
       "      <td>2016</td>\n",
       "      <td>NSW</td>\n",
       "      <td>Australia</td>\n",
       "      <td>10</td>\n",
       "      <td>Laraine</td>\n",
       "      <td>Medendorp</td>\n",
       "      <td>Female</td>\n",
       "      <td>...</td>\n",
       "      <td>True</td>\n",
       "      <td>Approved</td>\n",
       "      <td>Solex</td>\n",
       "      <td>Standard</td>\n",
       "      <td>medium</td>\n",
       "      <td>medium</td>\n",
       "      <td>1577.53</td>\n",
       "      <td>826.51</td>\n",
       "      <td>39526.0</td>\n",
       "      <td>751.02</td>\n",
       "    </tr>\n",
       "    <tr>\n",
       "      <th>2</th>\n",
       "      <td>2</td>\n",
       "      <td>1</td>\n",
       "      <td>060 Morning Avenue</td>\n",
       "      <td>2016</td>\n",
       "      <td>NSW</td>\n",
       "      <td>Australia</td>\n",
       "      <td>10</td>\n",
       "      <td>Laraine</td>\n",
       "      <td>Medendorp</td>\n",
       "      <td>Female</td>\n",
       "      <td>...</td>\n",
       "      <td>True</td>\n",
       "      <td>Approved</td>\n",
       "      <td>Trek Bicycles</td>\n",
       "      <td>Road</td>\n",
       "      <td>low</td>\n",
       "      <td>small</td>\n",
       "      <td>1720.70</td>\n",
       "      <td>1531.42</td>\n",
       "      <td>37823.0</td>\n",
       "      <td>189.28</td>\n",
       "    </tr>\n",
       "    <tr>\n",
       "      <th>3</th>\n",
       "      <td>3</td>\n",
       "      <td>1</td>\n",
       "      <td>060 Morning Avenue</td>\n",
       "      <td>2016</td>\n",
       "      <td>NSW</td>\n",
       "      <td>Australia</td>\n",
       "      <td>10</td>\n",
       "      <td>Laraine</td>\n",
       "      <td>Medendorp</td>\n",
       "      <td>Female</td>\n",
       "      <td>...</td>\n",
       "      <td>False</td>\n",
       "      <td>Approved</td>\n",
       "      <td>Norco Bicycles</td>\n",
       "      <td>Standard</td>\n",
       "      <td>medium</td>\n",
       "      <td>medium</td>\n",
       "      <td>360.40</td>\n",
       "      <td>270.30</td>\n",
       "      <td>37873.0</td>\n",
       "      <td>90.10</td>\n",
       "    </tr>\n",
       "    <tr>\n",
       "      <th>4</th>\n",
       "      <td>4</td>\n",
       "      <td>1</td>\n",
       "      <td>060 Morning Avenue</td>\n",
       "      <td>2016</td>\n",
       "      <td>NSW</td>\n",
       "      <td>Australia</td>\n",
       "      <td>10</td>\n",
       "      <td>Laraine</td>\n",
       "      <td>Medendorp</td>\n",
       "      <td>Female</td>\n",
       "      <td>...</td>\n",
       "      <td>False</td>\n",
       "      <td>Approved</td>\n",
       "      <td>Solex</td>\n",
       "      <td>Standard</td>\n",
       "      <td>medium</td>\n",
       "      <td>medium</td>\n",
       "      <td>71.49</td>\n",
       "      <td>53.62</td>\n",
       "      <td>38573.0</td>\n",
       "      <td>17.87</td>\n",
       "    </tr>\n",
       "  </tbody>\n",
       "</table>\n",
       "<p>5 rows × 32 columns</p>\n",
       "</div>"
      ],
      "text/plain": [
       "   Unnamed: 0  customer_id             address  postcode state    country  \\\n",
       "0           0            1  060 Morning Avenue      2016   NSW  Australia   \n",
       "1           1            1  060 Morning Avenue      2016   NSW  Australia   \n",
       "2           2            1  060 Morning Avenue      2016   NSW  Australia   \n",
       "3           3            1  060 Morning Avenue      2016   NSW  Australia   \n",
       "4           4            1  060 Morning Avenue      2016   NSW  Australia   \n",
       "\n",
       "   property_valuation first_name  last_name  gender  ...  online_order  \\\n",
       "0                  10    Laraine  Medendorp  Female  ...         False   \n",
       "1                  10    Laraine  Medendorp  Female  ...          True   \n",
       "2                  10    Laraine  Medendorp  Female  ...          True   \n",
       "3                  10    Laraine  Medendorp  Female  ...         False   \n",
       "4                  10    Laraine  Medendorp  Female  ...         False   \n",
       "\n",
       "  order_status           brand product_line product_class product_size  \\\n",
       "0     Approved      OHM Cycles     Standard        medium       medium   \n",
       "1     Approved           Solex     Standard        medium       medium   \n",
       "2     Approved   Trek Bicycles         Road           low        small   \n",
       "3     Approved  Norco Bicycles     Standard        medium       medium   \n",
       "4     Approved           Solex     Standard        medium       medium   \n",
       "\n",
       "  list_price  standard_cost  product_first_sold_date  profit  \n",
       "0     235.63         125.07                  38482.0  110.56  \n",
       "1    1577.53         826.51                  39526.0  751.02  \n",
       "2    1720.70        1531.42                  37823.0  189.28  \n",
       "3     360.40         270.30                  37873.0   90.10  \n",
       "4      71.49          53.62                  38573.0   17.87  \n",
       "\n",
       "[5 rows x 32 columns]"
      ]
     },
     "execution_count": 2,
     "metadata": {},
     "output_type": "execute_result"
    }
   ],
   "source": [
    "df=pd.read_csv('combined.csv')\n",
    "df.head()"
   ]
  },
  {
   "cell_type": "code",
   "execution_count": 3,
   "id": "therapeutic-specific",
   "metadata": {},
   "outputs": [
    {
     "name": "stdout",
     "output_type": "stream",
     "text": [
      "<class 'pandas.core.frame.DataFrame'>\n",
      "RangeIndex: 19329 entries, 0 to 19328\n",
      "Data columns (total 32 columns):\n",
      " #   Column                               Non-Null Count  Dtype  \n",
      "---  ------                               --------------  -----  \n",
      " 0   Unnamed: 0                           19329 non-null  int64  \n",
      " 1   customer_id                          19329 non-null  int64  \n",
      " 2   address                              19329 non-null  object \n",
      " 3   postcode                             19329 non-null  int64  \n",
      " 4   state                                19329 non-null  object \n",
      " 5   country                              19329 non-null  object \n",
      " 6   property_valuation                   19329 non-null  int64  \n",
      " 7   first_name                           19329 non-null  object \n",
      " 8   last_name                            18710 non-null  object \n",
      " 9   gender                               19329 non-null  object \n",
      " 10  past_3_years_bike_related_purchases  19329 non-null  int64  \n",
      " 11  DOB                                  19329 non-null  object \n",
      " 12  job_title                            17003 non-null  object \n",
      " 13  job_industry_category                19329 non-null  object \n",
      " 14  wealth_segment                       19329 non-null  object \n",
      " 15  deceased_indicator                   19329 non-null  object \n",
      " 16  owns_car                             19329 non-null  object \n",
      " 17  tenure                               19329 non-null  int64  \n",
      " 18  Age                                  19329 non-null  float64\n",
      " 19  transaction_id                       19329 non-null  int64  \n",
      " 20  product_id                           19329 non-null  int64  \n",
      " 21  transaction_date                     19329 non-null  object \n",
      " 22  online_order                         19329 non-null  bool   \n",
      " 23  order_status                         19329 non-null  object \n",
      " 24  brand                                19329 non-null  object \n",
      " 25  product_line                         19329 non-null  object \n",
      " 26  product_class                        19329 non-null  object \n",
      " 27  product_size                         19329 non-null  object \n",
      " 28  list_price                           19329 non-null  float64\n",
      " 29  standard_cost                        19329 non-null  float64\n",
      " 30  product_first_sold_date              19144 non-null  float64\n",
      " 31  profit                               19329 non-null  float64\n",
      "dtypes: bool(1), float64(5), int64(8), object(18)\n",
      "memory usage: 4.6+ MB\n"
     ]
    }
   ],
   "source": [
    "df.info()"
   ]
  },
  {
   "cell_type": "code",
   "execution_count": 4,
   "id": "elementary-stations",
   "metadata": {},
   "outputs": [],
   "source": [
    "df['gender'].value_counts()\n",
    "\n",
    "gen=[0,0]\n",
    "for i in df['gender']:\n",
    "    if(i=='Female'):\n",
    "        gen[0]+=1\n",
    "    elif(i=='Male'):\n",
    "        gen[1]+=1"
   ]
  },
  {
   "cell_type": "code",
   "execution_count": 5,
   "id": "starting-tsunami",
   "metadata": {},
   "outputs": [],
   "source": [
    "c_id=df['customer_id'].unique()"
   ]
  },
  {
   "cell_type": "code",
   "execution_count": 6,
   "id": "unusual-swing",
   "metadata": {},
   "outputs": [],
   "source": [
    "sale= [0,0]\n",
    "count={}\n",
    "c=df['customer_id'].value_counts()\n",
    "for i in c_id:\n",
    "        count[i]=df['past_3_years_bike_related_purchases'][df['customer_id']==i].sum()\n",
    "for i in c_id:\n",
    "    a= df['past_3_years_bike_related_purchases'][df['gender'] == 'Female'][df['customer_id']==i].sum()\n",
    "    a/=c[i]\n",
    "    sale[0]+=a\n",
    "    b = df['past_3_years_bike_related_purchases'][df['gender'] == 'Male'][df['customer_id']==i].sum()\n",
    "    b/=c[i]\n",
    "    sale[1]+=b\n",
    "sales={'Female':math.trunc(sale[0]),'Male':math.trunc(sale[1])}\n"
   ]
  },
  {
   "cell_type": "code",
   "execution_count": 7,
   "id": "atomic-governor",
   "metadata": {},
   "outputs": [
    {
     "data": {
      "text/plain": [
       "Text(0.5, 1.0, 'Percentage share of bikes bought on basis of gender')"
      ]
     },
     "execution_count": 7,
     "metadata": {},
     "output_type": "execute_result"
    },
    {
     "data": {
      "image/png": "[encoded data removed]",
      "text/plain": [
       "<Figure size 432x288 with 1 Axes>"
      ]
     },
     "metadata": {},
     "output_type": "display_data"
    }
   ],
   "source": [
    "label=['Female','Male']\n",
    "no=[int(sale[0]),int(sale[1])]\n",
    "color=['pink','blue']\n",
    "plt.pie(no,labels=label,colors=color,startangle=90,autopct=\"%.2f%%\")\n",
    "plt.title('Percentage share of bikes bought on basis of gender')"
   ]
  },
  {
   "cell_type": "code",
   "execution_count": 8,
   "id": "annoying-collaboration",
   "metadata": {},
   "outputs": [],
   "source": [
    "names = list(sales.keys())\n",
    "values = list(sales.values())"
   ]
  },
  {
   "cell_type": "code",
   "execution_count": 9,
   "id": "national-abortion",
   "metadata": {},
   "outputs": [
    {
     "data": {
      "image/png": "[encoded data removed]",
      "text/plain": [
       "<Figure size 432x288 with 1 Axes>"
      ]
     },
     "metadata": {
      "needs_background": "light"
     },
     "output_type": "display_data"
    }
   ],
   "source": [
    "plt.bar(range(len(sales)),values,tick_label=names,width=0.3,color=['pink','blue'])\n",
    "plt.xlabel('Gender')\n",
    "plt.ylabel('No of bikes Bought')\n",
    "plt.title('No of Bikes sold according to Gender')\n",
    "for i in range(len(no)):\n",
    "    plt.text(x = i, y = no[i]+0.25, s = no[i], size = 10,horizontalalignment='center')"
   ]
  },
  {
   "cell_type": "code",
   "execution_count": 10,
   "id": "secure-equality",
   "metadata": {},
   "outputs": [
    {
     "data": {
      "image/png": "[encoded data removed]",
      "text/plain": [
       "<Figure size 432x288 with 1 Axes>"
      ]
     },
     "metadata": {
      "needs_background": "light"
     },
     "output_type": "display_data"
    }
   ],
   "source": [
    "df['job_industry_category'][df['customer_id'].unique()].value_counts()[:].plot(kind='barh',color='orange')\n",
    "ind=df['job_industry_category'][df['customer_id'].unique()].value_counts()\n",
    "plt.xlabel('No of People')\n",
    "plt.ylabel('Industry Type')\n",
    "plt.title('Industry Category v/s No of People')\n",
    "ind_val=[697,607,587,394,171,139,119,81,56]\n",
    "for k in range(len(ind_val)):\n",
    "    plt.text(y =k, x = ind[k]+17, s = ind[k], size = 10,horizontalalignment='center')"
   ]
  },
  {
   "cell_type": "code",
   "execution_count": 11,
   "id": "urban-julian",
   "metadata": {},
   "outputs": [],
   "source": [
    "car= [0,0]\n",
    "count={}\n",
    "c=df['customer_id'].value_counts()\n",
    "for i in c_id:\n",
    "        count[i]=df['past_3_years_bike_related_purchases'][df['customer_id']==i].sum()\n",
    "for i in c_id:\n",
    "    a= df['past_3_years_bike_related_purchases'][df['gender'] == 'Female'][df['customer_id']==i].sum()\n",
    "    a/=c[i]\n",
    "    sale[0]+=a\n",
    "    b = df['past_3_years_bike_related_purchases'][df['gender'] == 'Male'][df['customer_id']==i].sum()\n",
    "    b/=c[i]\n",
    "    sale[1]+=b\n",
    "sales={'Female':math.trunc(sale[0]),'Male':math.trunc(sale[1])}\n",
    "\n"
   ]
  },
  {
   "cell_type": "code",
   "execution_count": 12,
   "id": "proud-andorra",
   "metadata": {},
   "outputs": [
    {
     "name": "stdout",
     "output_type": "stream",
     "text": [
      "{'NSW': 990, 'VIC': 352, 'QLD': 318} {'NSW': 921, 'VIC': 507, 'QLD': 322}\n"
     ]
    },
    {
     "name": "stderr",
     "output_type": "stream",
     "text": [
      "D:\\Anaconda\\lib\\site-packages\\ipykernel_launcher.py:21: MatplotlibDeprecationWarning: The 's' parameter of annotate() has been renamed 'text' since Matplotlib 3.3; support for the old name will be dropped two minor releases later.\n",
      "D:\\Anaconda\\lib\\site-packages\\ipykernel_launcher.py:22: MatplotlibDeprecationWarning: The 's' parameter of annotate() has been renamed 'text' since Matplotlib 3.3; support for the old name will be dropped two minor releases later.\n"
     ]
    },
    {
     "data": {
      "image/png": "[encoded data removed]",
      "text/plain": [
       "<Figure size 432x288 with 1 Axes>"
      ]
     },
     "metadata": {
      "needs_background": "light"
     },
     "output_type": "display_data"
    }
   ],
   "source": [
    "car_yes=dict(df['state'][df['customer_id'].unique()][df['owns_car']=='Yes'].value_counts())\n",
    "car_no=dict(df['state'][df['customer_id'].unique()][df['owns_car']=='No'].value_counts())\n",
    "print(car_yes,car_no)\n",
    "\n",
    "car_yes_keys=list(car_yes.keys())\n",
    "car_no_keys=list(car_yes.keys())\n",
    "\n",
    "states=list(car_yes.keys())\n",
    "car_yes=list(car_yes.values())\n",
    "car_no=list(car_no.values())\n",
    "x_loc=np.arange(len(states))\n",
    "plt.xticks(x_loc,states)\n",
    "plt.bar(x_loc-0.15,car_yes,width=0.3,label=\"YES\")\n",
    "plt.bar(x_loc+0.15,car_no,width=0.3,label=\"NO\")\n",
    "plt.legend()\n",
    "plt.xlabel('States')\n",
    "plt.ylabel('No of people')\n",
    "plt.title('No of People Having car')\n",
    "\n",
    "for i in range(len(states)):\n",
    "    plt.annotate(s=car_yes[i],xy=(x_loc[i]-0.15,car_yes[i]+5),horizontalalignment='center')\n",
    "    plt.annotate(s=car_no[i],xy=(x_loc[i]+0.15,car_no[i]+5),horizontalalignment='center')\n",
    "plt.show()\n",
    "\n"
   ]
  },
  {
   "cell_type": "code",
   "execution_count": 13,
   "id": "downtown-fairy",
   "metadata": {},
   "outputs": [
    {
     "name": "stderr",
     "output_type": "stream",
     "text": [
      "D:\\Anaconda\\lib\\site-packages\\ipykernel_launcher.py:16: MatplotlibDeprecationWarning: The 's' parameter of annotate() has been renamed 'text' since Matplotlib 3.3; support for the old name will be dropped two minor releases later.\n",
      "  app.launch_new_instance()\n"
     ]
    },
    {
     "data": {
      "image/png": "[encoded data removed]",
      "text/plain": [
       "<Figure size 432x288 with 1 Axes>"
      ]
     },
     "metadata": {
      "needs_background": "light"
     },
     "output_type": "display_data"
    }
   ],
   "source": [
    "df['Age'].head().mean()\n",
    "\n",
    "df['customer_id'].unique().shape\n",
    "\n",
    "brand=dict(df['brand'][df['customer_id'].unique()].value_counts())\n",
    "brand_name=list(brand.keys())\n",
    "brand_sales=list(brand.values())\n",
    "brand_name\n",
    "bs=np.arange(len(brand_name))\n",
    "\n",
    "df['brand'][df['customer_id'].unique()].value_counts()[:].plot(kind='bar')\n",
    "plt.title('Brand v/s No of bikes sold')\n",
    "plt.xlabel('Brand')\n",
    "plt.ylabel('No of cycles sold')\n",
    "for i in range(len(brand_name)):\n",
    "    plt.annotate(s=brand_sales[i],xy=(bs[i],brand_sales[i]+5),horizontalalignment='center')\n",
    "\n"
   ]
  },
  {
   "cell_type": "code",
   "execution_count": 14,
   "id": "sustainable-particle",
   "metadata": {},
   "outputs": [
    {
     "name": "stderr",
     "output_type": "stream",
     "text": [
      "D:\\Anaconda\\lib\\site-packages\\ipykernel_launcher.py:7: MatplotlibDeprecationWarning: The 's' parameter of annotate() has been renamed 'text' since Matplotlib 3.3; support for the old name will be dropped two minor releases later.\n",
      "  import sys\n"
     ]
    },
    {
     "data": {
      "text/plain": [
       "Text(0, 0.5, 'Product line')"
      ]
     },
     "execution_count": 14,
     "metadata": {},
     "output_type": "execute_result"
    },
    {
     "data": {
      "image/png": "[encoded data removed]",
      "text/plain": [
       "<Figure size 432x288 with 1 Axes>"
      ]
     },
     "metadata": {
      "needs_background": "light"
     },
     "output_type": "display_data"
    }
   ],
   "source": [
    "df['product_line'][df['customer_id'].unique()].value_counts().plot(kind='barh')\n",
    "pline=dict(df['product_line'][df['customer_id'].unique()].value_counts())\n",
    "pline_keys=list(pline.keys())\n",
    "pline_values=list(pline.values())\n",
    "pl=np.arange(len(pline_keys))\n",
    "for i in range(len(pline_keys)):\n",
    "    plt.annotate(s=pline_values[i],xy=(pline_values[i],pl[i]),verticalalignment='center')\n",
    "plt.title('Product Line V/s No of bikes sold')\n",
    "plt.xlabel('No of bikes sold')\n",
    "plt.ylabel('Product line')"
   ]
  },
  {
   "cell_type": "code",
   "execution_count": 15,
   "id": "working-chassis",
   "metadata": {},
   "outputs": [
    {
     "data": {
      "text/plain": [
       "(array([105., 166., 150., 150., 185., 281.,  47., 171., 113., 209.]),\n",
       " array([19.47 , 24.288, 29.106, 33.924, 38.742, 43.56 , 48.378, 53.196,\n",
       "        58.014, 62.832, 67.65 ]),\n",
       " <BarContainer object of 10 artists>)"
      ]
     },
     "execution_count": 15,
     "metadata": {},
     "output_type": "execute_result"
    },
    {
     "data": {
      "image/png": "[encoded data removed]",
      "text/plain": [
       "<Figure size 432x288 with 1 Axes>"
      ]
     },
     "metadata": {
      "needs_background": "light"
     },
     "output_type": "display_data"
    }
   ],
   "source": [
    "len_=len(df['Age'][df['customer_id'].unique()])\n",
    "mean,median=int(df['Age'][df['customer_id'].unique()].mean()),int(df['Age'][df['customer_id'].unique()].median())\n",
    "mean,median\n",
    "stdv_age=df['Age'][df['customer_id'].unique()].std()\n",
    "stdv_age\n",
    "\n",
    "plt.hist(list(df['Age'][df['customer_id'].unique()][df['gender']=='Male']))"
   ]
  },
  {
   "cell_type": "code",
   "execution_count": 16,
   "id": "military-competition",
   "metadata": {},
   "outputs": [
    {
     "data": {
      "text/plain": [
       "(array([ 86., 121., 160., 145., 315., 370., 189., 113., 140., 188.]),\n",
       " array([19.77 , 24.581, 29.392, 34.203, 39.014, 43.825, 48.636, 53.447,\n",
       "        58.258, 63.069, 67.88 ]),\n",
       " <BarContainer object of 10 artists>)"
      ]
     },
     "execution_count": 16,
     "metadata": {},
     "output_type": "execute_result"
    },
    {
     "data": {
      "image/png": "[encoded data removed]",
      "text/plain": [
       "<Figure size 432x288 with 1 Axes>"
      ]
     },
     "metadata": {
      "needs_background": "light"
     },
     "output_type": "display_data"
    }
   ],
   "source": [
    "plt.hist(list(df['Age'][df['customer_id'].unique()][df['gender']=='Female']))"
   ]
  },
  {
   "cell_type": "code",
   "execution_count": 17,
   "id": "boolean-moore",
   "metadata": {},
   "outputs": [
    {
     "name": "stderr",
     "output_type": "stream",
     "text": [
      "D:\\Anaconda\\lib\\site-packages\\ipykernel_launcher.py:43: MatplotlibDeprecationWarning: The 's' parameter of annotate() has been renamed 'text' since Matplotlib 3.3; support for the old name will be dropped two minor releases later.\n",
      "D:\\Anaconda\\lib\\site-packages\\ipykernel_launcher.py:44: MatplotlibDeprecationWarning: The 's' parameter of annotate() has been renamed 'text' since Matplotlib 3.3; support for the old name will be dropped two minor releases later.\n"
     ]
    },
    {
     "data": {
      "image/png": "[encoded data removed]",
      "text/plain": [
       "<Figure size 432x288 with 1 Axes>"
      ]
     },
     "metadata": {
      "needs_background": "light"
     },
     "output_type": "display_data"
    }
   ],
   "source": [
    "g1_female=0\n",
    "g2_female=0\n",
    "g3_female=0\n",
    "g1_male=0\n",
    "g2_male=0\n",
    "g3_male=0\n",
    "g1=int(mean-stdv_age)\n",
    "g3=int(mean+stdv_age)\n",
    "\n",
    "\n",
    "df['gender'][df['customer_id'].unique()].value_counts()\n",
    "\n",
    "j=0\n",
    "for i in df['gender'][df['customer_id'].unique()]:\n",
    "    if(i=='Female' and df['Age'][j]<=g1):\n",
    "        g1_female+=1\n",
    "    elif(i=='Female' and df['Age'][j]>g1 and df['Age'][j]<=mean):\n",
    "        g2_female+=1\n",
    "    elif(i=='Female' and df['Age'][j]>mean):\n",
    "        g3_female+=1\n",
    "    elif(i=='Male' and df['Age'][j]<=g1):\n",
    "        g1_male+=1\n",
    "    elif(i=='Male' and df['Age'][j]>g1 and df['Age'][j]<=mean):\n",
    "        g2_male+=1\n",
    "    elif(i=='Male' and df['Age'][j]>mean):\n",
    "        g3_male+=1\n",
    "    j+=1\n",
    "\n",
    "g1_male,g2_male,g3_male,g1_female,g2_female,g3_female\n",
    "\n",
    "male_age=[g1_male,g2_male,g3_male]\n",
    "female_age=[g1_female,g2_female,g3_female]\n",
    "age_=np.arange(3)\n",
    "plt.bar(age_-0.15,male_age,width=0.3,color='blue',label='Male')\n",
    "plt.bar(age_+0.15,female_age,width=0.3,color='pink',label='Female')\n",
    "age_range=['<=30','>30 and <=42','>42']\n",
    "plt.xticks(age_,age_range)\n",
    "plt.ylabel('No of people')\n",
    "plt.xlabel('Age Range')\n",
    "plt.legend()\n",
    "plt.title('Age distribution by gender')\n",
    "for i in range(len(age_)):\n",
    "    plt.annotate(s=male_age[i],xy=(age_[i]-0.15,male_age[i]),horizontalalignment='center')\n",
    "    plt.annotate(s=female_age[i],xy=(age_[i]+0.15,female_age[i]),horizontalalignment='center')\n",
    "\n"
   ]
  },
  {
   "cell_type": "code",
   "execution_count": 18,
   "id": "animal-mitchell",
   "metadata": {},
   "outputs": [
    {
     "name": "stderr",
     "output_type": "stream",
     "text": [
      "D:\\Anaconda\\lib\\site-packages\\ipykernel_launcher.py:102: MatplotlibDeprecationWarning: The 's' parameter of annotate() has been renamed 'text' since Matplotlib 3.3; support for the old name will be dropped two minor releases later.\n",
      "D:\\Anaconda\\lib\\site-packages\\ipykernel_launcher.py:103: MatplotlibDeprecationWarning: The 's' parameter of annotate() has been renamed 'text' since Matplotlib 3.3; support for the old name will be dropped two minor releases later.\n",
      "D:\\Anaconda\\lib\\site-packages\\ipykernel_launcher.py:104: MatplotlibDeprecationWarning: The 's' parameter of annotate() has been renamed 'text' since Matplotlib 3.3; support for the old name will be dropped two minor releases later.\n"
     ]
    },
    {
     "data": {
      "image/png": "[encoded data removed]",
      "text/plain": [
       "<Figure size 432x288 with 1 Axes>"
      ]
     },
     "metadata": {
      "needs_background": "light"
     },
     "output_type": "display_data"
    }
   ],
   "source": [
    "df['wealth_segment'].value_counts()\n",
    "\n",
    "m_a1_mass=0\n",
    "m_a1_high=0\n",
    "m_a1_aff=0\n",
    "\n",
    "m_a2_mass=0\n",
    "m_a2_high=0\n",
    "m_a2_aff=0\n",
    "\n",
    "m_a3_mass=0\n",
    "m_a3_high=0\n",
    "m_a3_aff=0\n",
    "\n",
    "f_a1_mass=0\n",
    "f_a1_high=0\n",
    "f_a1_aff=0\n",
    "\n",
    "f_a2_mass=0\n",
    "f_a2_high=0\n",
    "f_a2_aff=0\n",
    "\n",
    "f_a3_mass=0\n",
    "f_a3_high=0\n",
    "f_a3_aff=0\n",
    "\n",
    "\n",
    "for i in df['wealth_segment'][df['customer_id'].unique()]:\n",
    "    if(i=='Mass Customer' and df['Age'][j]<=g1 and df['gender'][j]=='Male'):\n",
    "        m_a1_mass+=1\n",
    "    elif(i=='High Net Worth' and df['Age'][j]<=g1 and df['gender'][j]=='Male'):\n",
    "        m_a1_high+=1\n",
    "    elif(i=='Affluent Customer' and df['Age'][j]<=g1 and df['gender'][j]=='Male'):\n",
    "        m_a1_aff+=1\n",
    "    elif(i=='Mass Customer' and df['Age'][j]<=g1 and df['gender'][j]=='Female'):\n",
    "        f_a1_mass+=1\n",
    "    elif(i=='High Net Worth' and df['Age'][j]<=g1 and df['gender'][j]=='Female'):\n",
    "        f_a1_high+=1\n",
    "    elif(i=='Affluent Customer' and df['Age'][j]<=g1 and df['gender'][j]=='Female'):\n",
    "        f_a1_aff+=1\n",
    "        \n",
    "    elif(i=='Mass Customer' and df['Age'][j]>g1 and df['Age'][j]<=mean and df['gender'][j]=='Male'):\n",
    "        m_a2_mass+=1\n",
    "    elif(i=='High Net Worth' and df['Age'][j]>g1 and df['Age'][j]<=mean and df['gender'][j]=='Male'):\n",
    "        m_a2_high+=1\n",
    "    elif(i=='Affluent Customer' and df['Age'][j]>g1 and df['Age'][j]<=mean and df['gender'][j]=='Male'):\n",
    "        m_a2_aff+=1\n",
    "    elif(i=='Mass Customer' and df['Age'][j]>g1 and df['Age'][j]<=mean and df['gender'][j]=='Female'):\n",
    "        f_a2_mass+=1\n",
    "    elif(i=='High Net Worth' and df['Age'][j]>g1 and df['Age'][j]<=mean and df['gender'][j]=='Female'):\n",
    "        f_a2_high+=1\n",
    "    elif(i=='Affluent Customer' and df['Age'][j]>g1 and df['Age'][j]<=mean and df['gender'][j]=='Female'):\n",
    "        f_a2_aff+=1\n",
    "        \n",
    "    elif(i=='Mass Customer' and df['Age'][j]>mean and df['gender'][j]=='Male'):\n",
    "        m_a3_mass+=1\n",
    "    elif(i=='High Net Worth' and df['Age'][j]>mean and df['gender'][j]=='Male'):\n",
    "        m_a3_high+=1\n",
    "    elif(i=='Affluent Customer' and df['Age'][j]>mean and df['gender'][j]=='Male'):\n",
    "        m_a3_aff+=1\n",
    "    elif(i=='Mass Customer' and df['Age'][j]>mean and df['gender'][j]=='Female'):\n",
    "        f_a3_mass+=1\n",
    "    elif(i=='High Net Worth' and df['Age'][j]>mean and df['gender'][j]=='Female'):\n",
    "        f_a3_high+=1\n",
    "    elif(i=='Affluent Customer' and df['Age'][j]>mean and df['gender'][j]=='Female'):\n",
    "        f_a3_aff+=1\n",
    "    j+=1\n",
    "\n",
    "\n",
    "m_a1_mass,m_a1_high,m_a1_aff\n",
    "\n",
    "m_a2_mass,m_a2_high,m_a2_aff\n",
    "\n",
    "m_a3_mass,m_a3_high,m_a3_aff\n",
    "\n",
    "f_a1_mass,f_a1_high,f_a1_aff\n",
    "\n",
    "f_a2_mass,f_a2_high,f_a2_aff\n",
    "\n",
    "f_a3_mass,f_a3_high,f_a3_aff\n",
    "\n",
    "age1_w=[m_a1_mass+f_a1_mass,m_a2_mass+f_a2_mass,m_a3_mass+f_a3_mass]\n",
    "age2_w=[m_a1_high+f_a1_high,m_a2_high+f_a2_high,m_a3_high+f_a3_high]\n",
    "age3_w=[m_a1_aff+f_a1_aff,m_a2_aff+f_a2_aff,m_a3_aff+f_a3_aff]\n",
    "\n",
    "\n",
    "age_w=np.arange(3)\n",
    "colors=['yellow','red','blue']\n",
    "labels=['Mass Customer','High Net Worth','Affluent Customer']\n",
    "plt.bar(age_w-0.25,age1_w,width=0.2,label=labels[0])\n",
    "plt.bar(age_w,age2_w,width=0.2,label=labels[1])\n",
    "plt.bar(age_w+0.25,age3_w,width=0.2,label=labels[2])\n",
    "\n",
    "\n",
    "age_range=['<=30','>30 and <=42','>42']\n",
    "plt.xticks(age_w,age_range)\n",
    "plt.ylabel('No of people')\n",
    "plt.xlabel('Age Range')\n",
    "plt.legend()\n",
    "plt.title('Distribution by wealth and gender')\n",
    "for i in range(len(age_w)):\n",
    "    plt.annotate(s=age1_w[i],xy=(age_w[i]-0.25,age1_w[i]),horizontalalignment='center')\n",
    "    plt.annotate(s=age2_w[i],xy=(age_w[i],age2_w[i]),horizontalalignment='center')\n",
    "    plt.annotate(s=age3_w[i],xy=(age_w[i]+0.25,age3_w[i]),horizontalalignment='center')\n",
    "\n"
   ]
  },
  {
   "cell_type": "markdown",
   "id": "saving-effect",
   "metadata": {},
   "source": [
    "## Analyzing the Data from new customer list"
   ]
  },
  {
   "cell_type": "code",
   "execution_count": 19,
   "id": "dimensional-balance",
   "metadata": {},
   "outputs": [
    {
     "data": {
      "text/html": [
       "<div>\n",
       "<style scoped>\n",
       "    .dataframe tbody tr th:only-of-type {\n",
       "        vertical-align: middle;\n",
       "    }\n",
       "\n",
       "    .dataframe tbody tr th {\n",
       "        vertical-align: top;\n",
       "    }\n",
       "\n",
       "    .dataframe thead th {\n",
       "        text-align: right;\n",
       "    }\n",
       "</style>\n",
       "<table border=\"1\" class=\"dataframe\">\n",
       "  <thead>\n",
       "    <tr style=\"text-align: right;\">\n",
       "      <th></th>\n",
       "      <th>Note: The data and information in this document is reflective of a hypothetical situation and client. This document is to be used for KPMG Virtual Internship purposes only.</th>\n",
       "      <th>Unnamed: 1</th>\n",
       "      <th>Unnamed: 2</th>\n",
       "      <th>Unnamed: 3</th>\n",
       "      <th>Unnamed: 4</th>\n",
       "      <th>Unnamed: 5</th>\n",
       "      <th>Unnamed: 6</th>\n",
       "      <th>Unnamed: 7</th>\n",
       "      <th>Unnamed: 8</th>\n",
       "      <th>Unnamed: 9</th>\n",
       "      <th>...</th>\n",
       "      <th>Unnamed: 13</th>\n",
       "      <th>Unnamed: 14</th>\n",
       "      <th>Unnamed: 15</th>\n",
       "      <th>Unnamed: 16</th>\n",
       "      <th>Unnamed: 17</th>\n",
       "      <th>Unnamed: 18</th>\n",
       "      <th>Unnamed: 19</th>\n",
       "      <th>Unnamed: 20</th>\n",
       "      <th>Unnamed: 21</th>\n",
       "      <th>Unnamed: 22</th>\n",
       "    </tr>\n",
       "  </thead>\n",
       "  <tbody>\n",
       "    <tr>\n",
       "      <th>0</th>\n",
       "      <td>first_name</td>\n",
       "      <td>last_name</td>\n",
       "      <td>gender</td>\n",
       "      <td>past_3_years_bike_related_purchases</td>\n",
       "      <td>DOB</td>\n",
       "      <td>job_title</td>\n",
       "      <td>job_industry_category</td>\n",
       "      <td>wealth_segment</td>\n",
       "      <td>deceased_indicator</td>\n",
       "      <td>owns_car</td>\n",
       "      <td>...</td>\n",
       "      <td>state</td>\n",
       "      <td>country</td>\n",
       "      <td>property_valuation</td>\n",
       "      <td>NaN</td>\n",
       "      <td>NaN</td>\n",
       "      <td>NaN</td>\n",
       "      <td>NaN</td>\n",
       "      <td>NaN</td>\n",
       "      <td>Rank</td>\n",
       "      <td>Value</td>\n",
       "    </tr>\n",
       "    <tr>\n",
       "      <th>1</th>\n",
       "      <td>Chickie</td>\n",
       "      <td>Brister</td>\n",
       "      <td>Male</td>\n",
       "      <td>86</td>\n",
       "      <td>1957-07-12</td>\n",
       "      <td>General Manager</td>\n",
       "      <td>Manufacturing</td>\n",
       "      <td>Mass Customer</td>\n",
       "      <td>N</td>\n",
       "      <td>Yes</td>\n",
       "      <td>...</td>\n",
       "      <td>QLD</td>\n",
       "      <td>Australia</td>\n",
       "      <td>6</td>\n",
       "      <td>0.56</td>\n",
       "      <td>0.7000</td>\n",
       "      <td>0.8750</td>\n",
       "      <td>0.743750</td>\n",
       "      <td>1.0</td>\n",
       "      <td>1</td>\n",
       "      <td>1.71875</td>\n",
       "    </tr>\n",
       "    <tr>\n",
       "      <th>2</th>\n",
       "      <td>Morly</td>\n",
       "      <td>Genery</td>\n",
       "      <td>Male</td>\n",
       "      <td>69</td>\n",
       "      <td>1970-03-22</td>\n",
       "      <td>Structural Engineer</td>\n",
       "      <td>Property</td>\n",
       "      <td>Mass Customer</td>\n",
       "      <td>N</td>\n",
       "      <td>No</td>\n",
       "      <td>...</td>\n",
       "      <td>NSW</td>\n",
       "      <td>Australia</td>\n",
       "      <td>11</td>\n",
       "      <td>0.89</td>\n",
       "      <td>0.8900</td>\n",
       "      <td>1.1125</td>\n",
       "      <td>0.945625</td>\n",
       "      <td>1.0</td>\n",
       "      <td>1</td>\n",
       "      <td>1.71875</td>\n",
       "    </tr>\n",
       "    <tr>\n",
       "      <th>3</th>\n",
       "      <td>Ardelis</td>\n",
       "      <td>Forrester</td>\n",
       "      <td>Female</td>\n",
       "      <td>10</td>\n",
       "      <td>1974-08-28 00:00:00</td>\n",
       "      <td>Senior Cost Accountant</td>\n",
       "      <td>Financial Services</td>\n",
       "      <td>Affluent Customer</td>\n",
       "      <td>N</td>\n",
       "      <td>No</td>\n",
       "      <td>...</td>\n",
       "      <td>VIC</td>\n",
       "      <td>Australia</td>\n",
       "      <td>5</td>\n",
       "      <td>1.01</td>\n",
       "      <td>1.0100</td>\n",
       "      <td>1.0100</td>\n",
       "      <td>1.010000</td>\n",
       "      <td>1.0</td>\n",
       "      <td>1</td>\n",
       "      <td>1.71875</td>\n",
       "    </tr>\n",
       "    <tr>\n",
       "      <th>4</th>\n",
       "      <td>Lucine</td>\n",
       "      <td>Stutt</td>\n",
       "      <td>Female</td>\n",
       "      <td>64</td>\n",
       "      <td>1979-01-28</td>\n",
       "      <td>Account Representative III</td>\n",
       "      <td>Manufacturing</td>\n",
       "      <td>Affluent Customer</td>\n",
       "      <td>N</td>\n",
       "      <td>Yes</td>\n",
       "      <td>...</td>\n",
       "      <td>QLD</td>\n",
       "      <td>Australia</td>\n",
       "      <td>1</td>\n",
       "      <td>0.87</td>\n",
       "      <td>1.0875</td>\n",
       "      <td>1.0875</td>\n",
       "      <td>1.087500</td>\n",
       "      <td>4.0</td>\n",
       "      <td>4</td>\n",
       "      <td>1.70312</td>\n",
       "    </tr>\n",
       "  </tbody>\n",
       "</table>\n",
       "<p>5 rows × 23 columns</p>\n",
       "</div>"
      ],
      "text/plain": [
       "  Note: The data and information in this document is reflective of a hypothetical situation and client. This document is to be used for KPMG Virtual Internship purposes only.   \\\n",
       "0                                         first_name                                                                                                                              \n",
       "1                                            Chickie                                                                                                                              \n",
       "2                                              Morly                                                                                                                              \n",
       "3                                            Ardelis                                                                                                                              \n",
       "4                                             Lucine                                                                                                                              \n",
       "\n",
       "  Unnamed: 1 Unnamed: 2                           Unnamed: 3  \\\n",
       "0  last_name     gender  past_3_years_bike_related_purchases   \n",
       "1    Brister       Male                                   86   \n",
       "2     Genery       Male                                   69   \n",
       "3  Forrester     Female                                   10   \n",
       "4      Stutt     Female                                   64   \n",
       "\n",
       "            Unnamed: 4                  Unnamed: 5             Unnamed: 6  \\\n",
       "0                  DOB                   job_title  job_industry_category   \n",
       "1           1957-07-12             General Manager          Manufacturing   \n",
       "2           1970-03-22         Structural Engineer               Property   \n",
       "3  1974-08-28 00:00:00      Senior Cost Accountant     Financial Services   \n",
       "4           1979-01-28  Account Representative III          Manufacturing   \n",
       "\n",
       "          Unnamed: 7          Unnamed: 8 Unnamed: 9  ... Unnamed: 13  \\\n",
       "0     wealth_segment  deceased_indicator   owns_car  ...       state   \n",
       "1      Mass Customer                   N        Yes  ...         QLD   \n",
       "2      Mass Customer                   N         No  ...         NSW   \n",
       "3  Affluent Customer                   N         No  ...         VIC   \n",
       "4  Affluent Customer                   N        Yes  ...         QLD   \n",
       "\n",
       "  Unnamed: 14         Unnamed: 15 Unnamed: 16 Unnamed: 17 Unnamed: 18  \\\n",
       "0     country  property_valuation         NaN         NaN         NaN   \n",
       "1   Australia                   6        0.56      0.7000      0.8750   \n",
       "2   Australia                  11        0.89      0.8900      1.1125   \n",
       "3   Australia                   5        1.01      1.0100      1.0100   \n",
       "4   Australia                   1        0.87      1.0875      1.0875   \n",
       "\n",
       "   Unnamed: 19  Unnamed: 20  Unnamed: 21  Unnamed: 22  \n",
       "0          NaN          NaN         Rank        Value  \n",
       "1     0.743750          1.0            1      1.71875  \n",
       "2     0.945625          1.0            1      1.71875  \n",
       "3     1.010000          1.0            1      1.71875  \n",
       "4     1.087500          4.0            4      1.70312  \n",
       "\n",
       "[5 rows x 23 columns]"
      ]
     },
     "execution_count": 19,
     "metadata": {},
     "output_type": "execute_result"
    }
   ],
   "source": [
    "df_new=pd.read_excel('',sheet_name='NewCustomerList')\n",
    "df_new.head()"
   ]
  },
  {
   "cell_type": "code",
   "execution_count": 20,
   "id": "afraid-affect",
   "metadata": {},
   "outputs": [
    {
     "data": {
      "text/plain": [
       "['',\n",
       " '',\n",
       " '',\n",
       " '',\n",
       " '',\n",
       " '',\n",
       " '',\n",
       " '',\n",
       " '',\n",
       " '',\n",
       " '',\n",
       " '',\n",
       " '',\n",
       " '',\n",
       " '',\n",
       " '',\n",
       " '',\n",
       " '',\n",
       " '',\n",
       " '',\n",
       " '',\n",
       " '',\n",
       " '']"
      ]
     },
     "execution_count": 20,
     "metadata": {},
     "output_type": "execute_result"
    }
   ],
   "source": [
    "df_new.columns=['']* len(df_new.columns)\n",
    "list(df_new.columns)"
   ]
  },
  {
   "cell_type": "code",
   "execution_count": 21,
   "id": "hearing-vertical",
   "metadata": {},
   "outputs": [],
   "source": [
    "df_new.columns =df_new.iloc[0]\n",
    "df_new.drop(0,inplace=True)"
   ]
  },
  {
   "cell_type": "code",
   "execution_count": 22,
   "id": "elect-zoning",
   "metadata": {},
   "outputs": [
    {
     "data": {
      "text/html": [
       "<div>\n",
       "<style scoped>\n",
       "    .dataframe tbody tr th:only-of-type {\n",
       "        vertical-align: middle;\n",
       "    }\n",
       "\n",
       "    .dataframe tbody tr th {\n",
       "        vertical-align: top;\n",
       "    }\n",
       "\n",
       "    .dataframe thead th {\n",
       "        text-align: right;\n",
       "    }\n",
       "</style>\n",
       "<table border=\"1\" class=\"dataframe\">\n",
       "  <thead>\n",
       "    <tr style=\"text-align: right;\">\n",
       "      <th></th>\n",
       "      <th>first_name</th>\n",
       "      <th>last_name</th>\n",
       "      <th>gender</th>\n",
       "      <th>past_3_years_bike_related_purchases</th>\n",
       "      <th>DOB</th>\n",
       "      <th>job_title</th>\n",
       "      <th>job_industry_category</th>\n",
       "      <th>wealth_segment</th>\n",
       "      <th>deceased_indicator</th>\n",
       "      <th>owns_car</th>\n",
       "      <th>...</th>\n",
       "      <th>state</th>\n",
       "      <th>country</th>\n",
       "      <th>property_valuation</th>\n",
       "      <th>NaN</th>\n",
       "      <th>NaN</th>\n",
       "      <th>NaN</th>\n",
       "      <th>NaN</th>\n",
       "      <th>NaN</th>\n",
       "      <th>Rank</th>\n",
       "      <th>Value</th>\n",
       "    </tr>\n",
       "  </thead>\n",
       "  <tbody>\n",
       "    <tr>\n",
       "      <th>1</th>\n",
       "      <td>Chickie</td>\n",
       "      <td>Brister</td>\n",
       "      <td>Male</td>\n",
       "      <td>86</td>\n",
       "      <td>1957-07-12</td>\n",
       "      <td>General Manager</td>\n",
       "      <td>Manufacturing</td>\n",
       "      <td>Mass Customer</td>\n",
       "      <td>N</td>\n",
       "      <td>Yes</td>\n",
       "      <td>...</td>\n",
       "      <td>QLD</td>\n",
       "      <td>Australia</td>\n",
       "      <td>6</td>\n",
       "      <td>0.56</td>\n",
       "      <td>0.7000</td>\n",
       "      <td>0.875000</td>\n",
       "      <td>0.743750</td>\n",
       "      <td>1.0</td>\n",
       "      <td>1</td>\n",
       "      <td>1.71875</td>\n",
       "    </tr>\n",
       "    <tr>\n",
       "      <th>2</th>\n",
       "      <td>Morly</td>\n",
       "      <td>Genery</td>\n",
       "      <td>Male</td>\n",
       "      <td>69</td>\n",
       "      <td>1970-03-22</td>\n",
       "      <td>Structural Engineer</td>\n",
       "      <td>Property</td>\n",
       "      <td>Mass Customer</td>\n",
       "      <td>N</td>\n",
       "      <td>No</td>\n",
       "      <td>...</td>\n",
       "      <td>NSW</td>\n",
       "      <td>Australia</td>\n",
       "      <td>11</td>\n",
       "      <td>0.89</td>\n",
       "      <td>0.8900</td>\n",
       "      <td>1.112500</td>\n",
       "      <td>0.945625</td>\n",
       "      <td>1.0</td>\n",
       "      <td>1</td>\n",
       "      <td>1.71875</td>\n",
       "    </tr>\n",
       "    <tr>\n",
       "      <th>3</th>\n",
       "      <td>Ardelis</td>\n",
       "      <td>Forrester</td>\n",
       "      <td>Female</td>\n",
       "      <td>10</td>\n",
       "      <td>1974-08-28 00:00:00</td>\n",
       "      <td>Senior Cost Accountant</td>\n",
       "      <td>Financial Services</td>\n",
       "      <td>Affluent Customer</td>\n",
       "      <td>N</td>\n",
       "      <td>No</td>\n",
       "      <td>...</td>\n",
       "      <td>VIC</td>\n",
       "      <td>Australia</td>\n",
       "      <td>5</td>\n",
       "      <td>1.01</td>\n",
       "      <td>1.0100</td>\n",
       "      <td>1.010000</td>\n",
       "      <td>1.010000</td>\n",
       "      <td>1.0</td>\n",
       "      <td>1</td>\n",
       "      <td>1.71875</td>\n",
       "    </tr>\n",
       "    <tr>\n",
       "      <th>4</th>\n",
       "      <td>Lucine</td>\n",
       "      <td>Stutt</td>\n",
       "      <td>Female</td>\n",
       "      <td>64</td>\n",
       "      <td>1979-01-28</td>\n",
       "      <td>Account Representative III</td>\n",
       "      <td>Manufacturing</td>\n",
       "      <td>Affluent Customer</td>\n",
       "      <td>N</td>\n",
       "      <td>Yes</td>\n",
       "      <td>...</td>\n",
       "      <td>QLD</td>\n",
       "      <td>Australia</td>\n",
       "      <td>1</td>\n",
       "      <td>0.87</td>\n",
       "      <td>1.0875</td>\n",
       "      <td>1.087500</td>\n",
       "      <td>1.087500</td>\n",
       "      <td>4.0</td>\n",
       "      <td>4</td>\n",
       "      <td>1.70312</td>\n",
       "    </tr>\n",
       "    <tr>\n",
       "      <th>5</th>\n",
       "      <td>Melinda</td>\n",
       "      <td>Hadlee</td>\n",
       "      <td>Female</td>\n",
       "      <td>34</td>\n",
       "      <td>1965-09-21</td>\n",
       "      <td>Financial Analyst</td>\n",
       "      <td>Financial Services</td>\n",
       "      <td>Affluent Customer</td>\n",
       "      <td>N</td>\n",
       "      <td>No</td>\n",
       "      <td>...</td>\n",
       "      <td>NSW</td>\n",
       "      <td>Australia</td>\n",
       "      <td>9</td>\n",
       "      <td>0.52</td>\n",
       "      <td>0.5200</td>\n",
       "      <td>0.650000</td>\n",
       "      <td>0.650000</td>\n",
       "      <td>4.0</td>\n",
       "      <td>4</td>\n",
       "      <td>1.70312</td>\n",
       "    </tr>\n",
       "    <tr>\n",
       "      <th>...</th>\n",
       "      <td>...</td>\n",
       "      <td>...</td>\n",
       "      <td>...</td>\n",
       "      <td>...</td>\n",
       "      <td>...</td>\n",
       "      <td>...</td>\n",
       "      <td>...</td>\n",
       "      <td>...</td>\n",
       "      <td>...</td>\n",
       "      <td>...</td>\n",
       "      <td>...</td>\n",
       "      <td>...</td>\n",
       "      <td>...</td>\n",
       "      <td>...</td>\n",
       "      <td>...</td>\n",
       "      <td>...</td>\n",
       "      <td>...</td>\n",
       "      <td>...</td>\n",
       "      <td>...</td>\n",
       "      <td>...</td>\n",
       "      <td>...</td>\n",
       "    </tr>\n",
       "    <tr>\n",
       "      <th>996</th>\n",
       "      <td>Ferdinand</td>\n",
       "      <td>Romanetti</td>\n",
       "      <td>Male</td>\n",
       "      <td>60</td>\n",
       "      <td>1959-10-07</td>\n",
       "      <td>Paralegal</td>\n",
       "      <td>Financial Services</td>\n",
       "      <td>Affluent Customer</td>\n",
       "      <td>N</td>\n",
       "      <td>No</td>\n",
       "      <td>...</td>\n",
       "      <td>NSW</td>\n",
       "      <td>Australia</td>\n",
       "      <td>7</td>\n",
       "      <td>0.79</td>\n",
       "      <td>0.7900</td>\n",
       "      <td>0.790000</td>\n",
       "      <td>0.790000</td>\n",
       "      <td>996.0</td>\n",
       "      <td>996</td>\n",
       "      <td>0.374</td>\n",
       "    </tr>\n",
       "    <tr>\n",
       "      <th>997</th>\n",
       "      <td>Burk</td>\n",
       "      <td>Wortley</td>\n",
       "      <td>Male</td>\n",
       "      <td>22</td>\n",
       "      <td>2001-10-17</td>\n",
       "      <td>Senior Sales Associate</td>\n",
       "      <td>Health</td>\n",
       "      <td>Mass Customer</td>\n",
       "      <td>N</td>\n",
       "      <td>No</td>\n",
       "      <td>...</td>\n",
       "      <td>NSW</td>\n",
       "      <td>Australia</td>\n",
       "      <td>10</td>\n",
       "      <td>0.76</td>\n",
       "      <td>0.7600</td>\n",
       "      <td>0.950000</td>\n",
       "      <td>0.807500</td>\n",
       "      <td>997.0</td>\n",
       "      <td>997</td>\n",
       "      <td>0.357</td>\n",
       "    </tr>\n",
       "    <tr>\n",
       "      <th>998</th>\n",
       "      <td>Melloney</td>\n",
       "      <td>Temby</td>\n",
       "      <td>Female</td>\n",
       "      <td>17</td>\n",
       "      <td>1954-10-05</td>\n",
       "      <td>Budget/Accounting Analyst IV</td>\n",
       "      <td>Financial Services</td>\n",
       "      <td>Affluent Customer</td>\n",
       "      <td>N</td>\n",
       "      <td>Yes</td>\n",
       "      <td>...</td>\n",
       "      <td>QLD</td>\n",
       "      <td>Australia</td>\n",
       "      <td>2</td>\n",
       "      <td>0.85</td>\n",
       "      <td>1.0625</td>\n",
       "      <td>1.062500</td>\n",
       "      <td>1.062500</td>\n",
       "      <td>997.0</td>\n",
       "      <td>997</td>\n",
       "      <td>0.357</td>\n",
       "    </tr>\n",
       "    <tr>\n",
       "      <th>999</th>\n",
       "      <td>Dickie</td>\n",
       "      <td>Cubbini</td>\n",
       "      <td>Male</td>\n",
       "      <td>30</td>\n",
       "      <td>1952-12-17</td>\n",
       "      <td>Financial Advisor</td>\n",
       "      <td>Financial Services</td>\n",
       "      <td>Mass Customer</td>\n",
       "      <td>N</td>\n",
       "      <td>Yes</td>\n",
       "      <td>...</td>\n",
       "      <td>QLD</td>\n",
       "      <td>Australia</td>\n",
       "      <td>2</td>\n",
       "      <td>1.09</td>\n",
       "      <td>1.3625</td>\n",
       "      <td>1.362500</td>\n",
       "      <td>1.158125</td>\n",
       "      <td>997.0</td>\n",
       "      <td>997</td>\n",
       "      <td>0.357</td>\n",
       "    </tr>\n",
       "    <tr>\n",
       "      <th>1000</th>\n",
       "      <td>Sylas</td>\n",
       "      <td>Duffill</td>\n",
       "      <td>Male</td>\n",
       "      <td>56</td>\n",
       "      <td>1955-10-02</td>\n",
       "      <td>Staff Accountant IV</td>\n",
       "      <td>Property</td>\n",
       "      <td>Mass Customer</td>\n",
       "      <td>N</td>\n",
       "      <td>Yes</td>\n",
       "      <td>...</td>\n",
       "      <td>NSW</td>\n",
       "      <td>Australia</td>\n",
       "      <td>9</td>\n",
       "      <td>0.47</td>\n",
       "      <td>0.5875</td>\n",
       "      <td>0.734375</td>\n",
       "      <td>0.624219</td>\n",
       "      <td>1000.0</td>\n",
       "      <td>1000</td>\n",
       "      <td>0.34</td>\n",
       "    </tr>\n",
       "  </tbody>\n",
       "</table>\n",
       "<p>1000 rows × 23 columns</p>\n",
       "</div>"
      ],
      "text/plain": [
       "0    first_name  last_name  gender past_3_years_bike_related_purchases  \\\n",
       "1       Chickie    Brister    Male                                  86   \n",
       "2         Morly     Genery    Male                                  69   \n",
       "3       Ardelis  Forrester  Female                                  10   \n",
       "4        Lucine      Stutt  Female                                  64   \n",
       "5       Melinda     Hadlee  Female                                  34   \n",
       "...         ...        ...     ...                                 ...   \n",
       "996   Ferdinand  Romanetti    Male                                  60   \n",
       "997        Burk    Wortley    Male                                  22   \n",
       "998    Melloney      Temby  Female                                  17   \n",
       "999      Dickie    Cubbini    Male                                  30   \n",
       "1000      Sylas    Duffill    Male                                  56   \n",
       "\n",
       "0                     DOB                     job_title job_industry_category  \\\n",
       "1              1957-07-12               General Manager         Manufacturing   \n",
       "2              1970-03-22           Structural Engineer              Property   \n",
       "3     1974-08-28 00:00:00        Senior Cost Accountant    Financial Services   \n",
       "4              1979-01-28    Account Representative III         Manufacturing   \n",
       "5              1965-09-21             Financial Analyst    Financial Services   \n",
       "...                   ...                           ...                   ...   \n",
       "996            1959-10-07                     Paralegal    Financial Services   \n",
       "997            2001-10-17        Senior Sales Associate                Health   \n",
       "998            1954-10-05  Budget/Accounting Analyst IV    Financial Services   \n",
       "999            1952-12-17             Financial Advisor    Financial Services   \n",
       "1000           1955-10-02           Staff Accountant IV              Property   \n",
       "\n",
       "0        wealth_segment deceased_indicator owns_car  ... state    country  \\\n",
       "1         Mass Customer                  N      Yes  ...   QLD  Australia   \n",
       "2         Mass Customer                  N       No  ...   NSW  Australia   \n",
       "3     Affluent Customer                  N       No  ...   VIC  Australia   \n",
       "4     Affluent Customer                  N      Yes  ...   QLD  Australia   \n",
       "5     Affluent Customer                  N       No  ...   NSW  Australia   \n",
       "...                 ...                ...      ...  ...   ...        ...   \n",
       "996   Affluent Customer                  N       No  ...   NSW  Australia   \n",
       "997       Mass Customer                  N       No  ...   NSW  Australia   \n",
       "998   Affluent Customer                  N      Yes  ...   QLD  Australia   \n",
       "999       Mass Customer                  N      Yes  ...   QLD  Australia   \n",
       "1000      Mass Customer                  N      Yes  ...   NSW  Australia   \n",
       "\n",
       "0    property_valuation   NaN     NaN       NaN       NaN     NaN  Rank  \\\n",
       "1                     6  0.56  0.7000  0.875000  0.743750     1.0     1   \n",
       "2                    11  0.89  0.8900  1.112500  0.945625     1.0     1   \n",
       "3                     5  1.01  1.0100  1.010000  1.010000     1.0     1   \n",
       "4                     1  0.87  1.0875  1.087500  1.087500     4.0     4   \n",
       "5                     9  0.52  0.5200  0.650000  0.650000     4.0     4   \n",
       "...                 ...   ...     ...       ...       ...     ...   ...   \n",
       "996                   7  0.79  0.7900  0.790000  0.790000   996.0   996   \n",
       "997                  10  0.76  0.7600  0.950000  0.807500   997.0   997   \n",
       "998                   2  0.85  1.0625  1.062500  1.062500   997.0   997   \n",
       "999                   2  1.09  1.3625  1.362500  1.158125   997.0   997   \n",
       "1000                  9  0.47  0.5875  0.734375  0.624219  1000.0  1000   \n",
       "\n",
       "0       Value  \n",
       "1     1.71875  \n",
       "2     1.71875  \n",
       "3     1.71875  \n",
       "4     1.70312  \n",
       "5     1.70312  \n",
       "...       ...  \n",
       "996     0.374  \n",
       "997     0.357  \n",
       "998     0.357  \n",
       "999     0.357  \n",
       "1000     0.34  \n",
       "\n",
       "[1000 rows x 23 columns]"
      ]
     },
     "execution_count": 22,
     "metadata": {},
     "output_type": "execute_result"
    }
   ],
   "source": [
    "df_new"
   ]
  },
  {
   "cell_type": "code",
   "execution_count": 23,
   "id": "absent-bracelet",
   "metadata": {},
   "outputs": [
    {
     "data": {
      "text/plain": [
       "[513, 470]"
      ]
     },
     "execution_count": 23,
     "metadata": {},
     "output_type": "execute_result"
    }
   ],
   "source": [
    "gen=[0,0]\n",
    "for i in df_new['gender']:\n",
    "    if(i=='Female'):\n",
    "        gen[0]+=1\n",
    "    elif(i=='Male'):\n",
    "        gen[1]+=1\n",
    "gen"
   ]
  },
  {
   "cell_type": "code",
   "execution_count": 24,
   "id": "nuclear-silicon",
   "metadata": {},
   "outputs": [
    {
     "data": {
      "text/plain": [
       "Female    513\n",
       "Male      470\n",
       "U          17\n",
       "Name: gender, dtype: int64"
      ]
     },
     "execution_count": 24,
     "metadata": {},
     "output_type": "execute_result"
    }
   ],
   "source": [
    "df_new['gender'].value_counts()"
   ]
  },
  {
   "cell_type": "code",
   "execution_count": 25,
   "id": "pacific-executive",
   "metadata": {},
   "outputs": [],
   "source": [
    "df_new.drop(df_new[df_new['gender'] == 'U'].index, inplace = True) "
   ]
  },
  {
   "cell_type": "code",
   "execution_count": 26,
   "id": "false-asset",
   "metadata": {},
   "outputs": [
    {
     "name": "stdout",
     "output_type": "stream",
     "text": [
      "0\n",
      "first_name                               0\n",
      "last_name                               29\n",
      "gender                                   0\n",
      "past_3_years_bike_related_purchases      0\n",
      "DOB                                      0\n",
      "job_title                              105\n",
      "job_industry_category                  165\n",
      "wealth_segment                           0\n",
      "deceased_indicator                       0\n",
      "owns_car                                 0\n",
      "tenure                                   0\n",
      "address                                  0\n",
      "postcode                                 0\n",
      "state                                    0\n",
      "country                                  0\n",
      "property_valuation                       0\n",
      "NaN                                      0\n",
      "NaN                                      0\n",
      "NaN                                      0\n",
      "NaN                                      0\n",
      "NaN                                      0\n",
      "Rank                                     0\n",
      "Value                                    0\n",
      "dtype: int64\n"
     ]
    }
   ],
   "source": [
    "print(df_new.isnull().sum())"
   ]
  },
  {
   "cell_type": "code",
   "execution_count": 27,
   "id": "swiss-cloud",
   "metadata": {},
   "outputs": [
    {
     "name": "stdout",
     "output_type": "stream",
     "text": [
      "0\n",
      "first_name                               0\n",
      "last_name                               29\n",
      "gender                                   0\n",
      "past_3_years_bike_related_purchases      0\n",
      "DOB                                      0\n",
      "job_title                              105\n",
      "job_industry_category                    0\n",
      "wealth_segment                           0\n",
      "deceased_indicator                       0\n",
      "owns_car                                 0\n",
      "tenure                                   0\n",
      "address                                  0\n",
      "postcode                                 0\n",
      "state                                    0\n",
      "country                                  0\n",
      "property_valuation                       0\n",
      "dtype: int64\n"
     ]
    }
   ],
   "source": [
    "df_new[\"job_industry_category\"].fillna(method=\"ffill\",inplace=True)\n",
    "df_new[\"job_industry_category\"].fillna(method=\"bfill\",inplace=True)\n",
    "df_new=df_new[[\"first_name\",\"last_name\",\"gender\",\"past_3_years_bike_related_purchases\",\"DOB\",\"job_title\",\"job_industry_category\",\"wealth_segment\",\"deceased_indicator\",\"owns_car\",\"tenure\",\"address\",\"postcode\",\"state\",\"country\",\"property_valuation\"]]\n",
    "print(df_new.isnull().sum())"
   ]
  },
  {
   "cell_type": "code",
   "execution_count": 28,
   "id": "supreme-fighter",
   "metadata": {},
   "outputs": [
    {
     "name": "stdout",
     "output_type": "stream",
     "text": [
      "<class 'pandas.core.frame.DataFrame'>\n",
      "Int64Index: 983 entries, 1 to 1000\n",
      "Data columns (total 16 columns):\n",
      " #   Column                               Non-Null Count  Dtype \n",
      "---  ------                               --------------  ----- \n",
      " 0   first_name                           983 non-null    object\n",
      " 1   last_name                            954 non-null    object\n",
      " 2   gender                               983 non-null    object\n",
      " 3   past_3_years_bike_related_purchases  983 non-null    object\n",
      " 4   DOB                                  983 non-null    object\n",
      " 5   job_title                            878 non-null    object\n",
      " 6   job_industry_category                983 non-null    object\n",
      " 7   wealth_segment                       983 non-null    object\n",
      " 8   deceased_indicator                   983 non-null    object\n",
      " 9   owns_car                             983 non-null    object\n",
      " 10  tenure                               983 non-null    object\n",
      " 11  address                              983 non-null    object\n",
      " 12  postcode                             983 non-null    object\n",
      " 13  state                                983 non-null    object\n",
      " 14  country                              983 non-null    object\n",
      " 15  property_valuation                   983 non-null    object\n",
      "dtypes: object(16)\n",
      "memory usage: 130.6+ KB\n"
     ]
    }
   ],
   "source": [
    "df_new.info()"
   ]
  },
  {
   "cell_type": "code",
   "execution_count": 29,
   "id": "romantic-interpretation",
   "metadata": {},
   "outputs": [
    {
     "data": {
      "text/plain": [
       "{'Female': 513, 'Male': 470}"
      ]
     },
     "execution_count": 29,
     "metadata": {},
     "output_type": "execute_result"
    }
   ],
   "source": [
    "sale=[0,0]\n",
    "sale[0]=df_new['past_3_years_bike_related_purchases'][df_new['gender']=='Female'].count()\n",
    "sale[1]=df_new['past_3_years_bike_related_purchases'][df_new['gender']=='Male'].count()\n",
    "sales={'Female':sale[0],'Male':sale[1]}\n",
    "sales"
   ]
  },
  {
   "cell_type": "code",
   "execution_count": 30,
   "id": "urban-organizer",
   "metadata": {},
   "outputs": [
    {
     "data": {
      "text/plain": [
       "Text(0.5, 1.0, 'Percentage share of bikes bought on basis of gender')"
      ]
     },
     "execution_count": 30,
     "metadata": {},
     "output_type": "execute_result"
    },
    {
     "data": {
      "image/png": "[encoded data removed]",
      "text/plain": [
       "<Figure size 432x288 with 1 Axes>"
      ]
     },
     "metadata": {},
     "output_type": "display_data"
    }
   ],
   "source": [
    "label=['Female','Male']\n",
    "no=[int(sale[0]),int(sale[1])]\n",
    "color=['pink','blue']\n",
    "plt.pie(no,labels=label,colors=color,startangle=90,autopct=\"%.2f%%\")\n",
    "plt.title('Percentage share of bikes bought on basis of gender')\n",
    "\n"
   ]
  },
  {
   "cell_type": "code",
   "execution_count": 31,
   "id": "straight-marine",
   "metadata": {},
   "outputs": [
    {
     "data": {
      "image/png": "[encoded data removed]",
      "text/plain": [
       "<Figure size 432x288 with 1 Axes>"
      ]
     },
     "metadata": {
      "needs_background": "light"
     },
     "output_type": "display_data"
    }
   ],
   "source": [
    "names = list(sales.keys())\n",
    "values = list(sales.values())\n",
    "\n",
    "plt.bar(range(len(sales)),values,tick_label=names,width=0.3,color=['pink','blue'])\n",
    "plt.xlabel('Gender')\n",
    "plt.ylabel('No of bikes Bought')\n",
    "plt.title('No of Bikes sold according to Gender')\n",
    "for i in range(len(no)):\n",
    "    plt.text(x = i, y = no[i]+0.25, s = no[i], size = 10,horizontalalignment='center')"
   ]
  },
  {
   "cell_type": "code",
   "execution_count": 32,
   "id": "sealed-secondary",
   "metadata": {},
   "outputs": [
    {
     "data": {
      "image/png": "[encoded data removed]",
      "text/plain": [
       "<Figure size 432x288 with 1 Axes>"
      ]
     },
     "metadata": {
      "needs_background": "light"
     },
     "output_type": "display_data"
    }
   ],
   "source": [
    "df_new['job_industry_category'].value_counts()[:].plot(kind='barh',color='orange')\n",
    "ind=df_new['job_industry_category'].value_counts()\n",
    "plt.xlabel('No of People')\n",
    "plt.ylabel('Industry Type')\n",
    "plt.title('Industry Category v/s No of People')\n",
    "ind_val=[203,199,152,78,64,51,37,26,25]\n",
    "for k in range(len(ind_val)):\n",
    "    plt.text(y =k, x = ind[k]+3, s = ind[k], size = 10,horizontalalignment='center')\n"
   ]
  },
  {
   "cell_type": "code",
   "execution_count": 33,
   "id": "seeing-wesley",
   "metadata": {},
   "outputs": [
    {
     "name": "stdout",
     "output_type": "stream",
     "text": [
      "{'NSW': 232, 'VIC': 129, 'QLD': 125} {'NSW': 267, 'VIC': 129, 'QLD': 101}\n"
     ]
    },
    {
     "name": "stderr",
     "output_type": "stream",
     "text": [
      "D:\\Anaconda\\lib\\site-packages\\ipykernel_launcher.py:24: MatplotlibDeprecationWarning: The 's' parameter of annotate() has been renamed 'text' since Matplotlib 3.3; support for the old name will be dropped two minor releases later.\n",
      "D:\\Anaconda\\lib\\site-packages\\ipykernel_launcher.py:25: MatplotlibDeprecationWarning: The 's' parameter of annotate() has been renamed 'text' since Matplotlib 3.3; support for the old name will be dropped two minor releases later.\n"
     ]
    },
    {
     "data": {
      "image/png": "[encoded data removed]",
      "text/plain": [
       "<Figure size 432x288 with 1 Axes>"
      ]
     },
     "metadata": {
      "needs_background": "light"
     },
     "output_type": "display_data"
    }
   ],
   "source": [
    "ind=df_new['job_industry_category'].value_counts()\n",
    "ind\n",
    "\n",
    "car_yes=dict(df_new['state'][df_new['owns_car']=='Yes'].value_counts())\n",
    "car_no=dict(df_new['state'][df_new['owns_car']=='No'].value_counts())\n",
    "print(car_yes,car_no)\n",
    "\n",
    "car_yes_keys=list(car_yes.keys())\n",
    "car_no_keys=list(car_yes.keys())\n",
    "\n",
    "states=list(car_yes.keys())\n",
    "car_yes=list(car_yes.values())\n",
    "car_no=list(car_no.values())\n",
    "x_loc=np.arange(len(states))\n",
    "plt.xticks(x_loc,states)\n",
    "plt.bar(x_loc-0.15,car_yes,width=0.3,label=\"YES\")\n",
    "plt.bar(x_loc+0.15,car_no,width=0.3,label=\"NO\")\n",
    "plt.legend()\n",
    "plt.xlabel('States')\n",
    "plt.ylabel('No of people')\n",
    "plt.title('No of People Having car')\n",
    "\n",
    "for i in range(len(states)):\n",
    "    plt.annotate(s=car_yes[i],xy=(x_loc[i]-0.15,car_yes[i]+5),horizontalalignment='center')\n",
    "    plt.annotate(s=car_no[i],xy=(x_loc[i]+0.15,car_no[i]+5),horizontalalignment='center')\n",
    "plt.show()"
   ]
  },
  {
   "cell_type": "code",
   "execution_count": 34,
   "id": "female-journey",
   "metadata": {
    "scrolled": true
   },
   "outputs": [
    {
     "name": "stderr",
     "output_type": "stream",
     "text": [
      "D:\\Anaconda\\lib\\site-packages\\ipykernel_launcher.py:1: SettingWithCopyWarning: \n",
      "A value is trying to be set on a copy of a slice from a DataFrame.\n",
      "Try using .loc[row_indexer,col_indexer] = value instead\n",
      "\n",
      "See the caveats in the documentation: https://pandas.pydata.org/pandas-docs/stable/user_guide/indexing.html#returning-a-view-versus-a-copy\n",
      "  \"\"\"Entry point for launching an IPython kernel.\n"
     ]
    }
   ],
   "source": [
    "df_new[\"DOB\"]=pd.to_datetime(df_new[\"DOB\"])"
   ]
  },
  {
   "cell_type": "code",
   "execution_count": 35,
   "id": "periodic-visit",
   "metadata": {},
   "outputs": [
    {
     "name": "stderr",
     "output_type": "stream",
     "text": [
      "D:\\Anaconda\\lib\\site-packages\\ipykernel_launcher.py:2: SettingWithCopyWarning: \n",
      "A value is trying to be set on a copy of a slice from a DataFrame.\n",
      "Try using .loc[row_indexer,col_indexer] = value instead\n",
      "\n",
      "See the caveats in the documentation: https://pandas.pydata.org/pandas-docs/stable/user_guide/indexing.html#returning-a-view-versus-a-copy\n",
      "  \n"
     ]
    },
    {
     "data": {
      "text/plain": [
       "1       64.13\n",
       "2       51.44\n",
       "3       47.00\n",
       "4       42.58\n",
       "5       55.93\n",
       "        ...  \n",
       "996     61.89\n",
       "997     19.86\n",
       "998     66.90\n",
       "999     68.69\n",
       "1000    65.90\n",
       "Name: Age, Length: 983, dtype: float64"
      ]
     },
     "execution_count": 35,
     "metadata": {},
     "output_type": "execute_result"
    }
   ],
   "source": [
    "now = datetime.now()\n",
    "df_new['Age']=round((now - df_new['DOB']).dt.total_seconds() / (60*60*24*365.25),2)\n",
    "df_new['Age']"
   ]
  },
  {
   "cell_type": "code",
   "execution_count": 36,
   "id": "superb-consequence",
   "metadata": {},
   "outputs": [
    {
     "data": {
      "text/plain": [
       "(array([51., 53., 27., 63., 56., 55., 47., 54., 37., 27.]),\n",
       " array([19.65 , 26.007, 32.364, 38.721, 45.078, 51.435, 57.792, 64.149,\n",
       "        70.506, 76.863, 83.22 ]),\n",
       " <BarContainer object of 10 artists>)"
      ]
     },
     "execution_count": 36,
     "metadata": {},
     "output_type": "execute_result"
    },
    {
     "data": {
      "image/png": "[encoded data removed]",
      "text/plain": [
       "<Figure size 432x288 with 1 Axes>"
      ]
     },
     "metadata": {
      "needs_background": "light"
     },
     "output_type": "display_data"
    }
   ],
   "source": [
    "len_=len(df_new['Age'])\n",
    "mean,median=int(df_new['Age'].mean()),int(df_new['Age'].median())\n",
    "mean,median\n",
    "stdv_age=df_new['Age'].std()\n",
    "mean,median\n",
    "\n",
    "plt.hist(list(df_new['Age'][df_new['gender']=='Male']))"
   ]
  },
  {
   "cell_type": "code",
   "execution_count": 37,
   "id": "included-today",
   "metadata": {},
   "outputs": [
    {
     "data": {
      "text/plain": [
       "(array([47., 46., 27., 67., 80., 59., 63., 57., 25., 42.]),\n",
       " array([19.5  , 25.856, 32.212, 38.568, 44.924, 51.28 , 57.636, 63.992,\n",
       "        70.348, 76.704, 83.06 ]),\n",
       " <BarContainer object of 10 artists>)"
      ]
     },
     "execution_count": 37,
     "metadata": {},
     "output_type": "execute_result"
    },
    {
     "data": {
      "image/png": "[encoded data removed]",
      "text/plain": [
       "<Figure size 432x288 with 1 Axes>"
      ]
     },
     "metadata": {
      "needs_background": "light"
     },
     "output_type": "display_data"
    }
   ],
   "source": [
    "plt.hist(list(df_new['Age'][df_new['gender']=='Female']))\n"
   ]
  },
  {
   "cell_type": "code",
   "execution_count": 38,
   "id": "radio-oklahoma",
   "metadata": {},
   "outputs": [],
   "source": [
    "g1=int(mean-stdv_age)\n",
    "g3=int(mean+stdv_age)\n"
   ]
  },
  {
   "cell_type": "code",
   "execution_count": 39,
   "id": "associate-delicious",
   "metadata": {},
   "outputs": [
    {
     "data": {
      "text/plain": [
       "Female    513\n",
       "Male      470\n",
       "Name: gender, dtype: int64"
      ]
     },
     "execution_count": 39,
     "metadata": {},
     "output_type": "execute_result"
    }
   ],
   "source": [
    "df_new['gender'].value_counts()"
   ]
  },
  {
   "cell_type": "code",
   "execution_count": 40,
   "id": "lasting-warrant",
   "metadata": {},
   "outputs": [
    {
     "name": "stderr",
     "output_type": "stream",
     "text": [
      "D:\\Anaconda\\lib\\site-packages\\ipykernel_launcher.py:22: MatplotlibDeprecationWarning: The 's' parameter of annotate() has been renamed 'text' since Matplotlib 3.3; support for the old name will be dropped two minor releases later.\n",
      "D:\\Anaconda\\lib\\site-packages\\ipykernel_launcher.py:23: MatplotlibDeprecationWarning: The 's' parameter of annotate() has been renamed 'text' since Matplotlib 3.3; support for the old name will be dropped two minor releases later.\n"
     ]
    },
    {
     "data": {
      "image/png": "[encoded data removed]",
      "text/plain": [
       "<Figure size 432x288 with 1 Axes>"
      ]
     },
     "metadata": {
      "needs_background": "light"
     },
     "output_type": "display_data"
    }
   ],
   "source": [
    "a1=dict(df_new['gender'][df_new['Age']<=g1].value_counts())\n",
    "a1\n",
    "\n",
    "a3=dict(df_new['gender'][df_new['Age']>mean].value_counts())\n",
    "a3\n",
    "\n",
    "a2={'Female':428-(a3['Female']+a1['Female']),'Male':390-(a3['Male']+a1['Male'])}\n",
    "a2\n",
    "\n",
    "male_age=[a1['Male'],a2['Male'],a3['Male']]\n",
    "female_age=[a1['Female'],a2['Female'],a3['Female']]\n",
    "age_=np.arange(3)\n",
    "plt.bar(age_-0.15,male_age,width=0.3,color='blue',label='Male')\n",
    "plt.bar(age_+0.15,female_age,width=0.3,color='pink',label='Female')\n",
    "age_range=['<=30','>30 and <=42','>42']\n",
    "plt.xticks(age_,age_range)\n",
    "plt.ylabel('No of people')\n",
    "plt.xlabel('Age Range')\n",
    "plt.legend()\n",
    "plt.title('Age distribution by gender')\n",
    "for i in range(len(age_)):\n",
    "    plt.annotate(s=male_age[i],xy=(age_[i]-0.15,male_age[i]),horizontalalignment='center')\n",
    "    plt.annotate(s=female_age[i],xy=(age_[i]+0.15,female_age[i]),horizontalalignment='center')\n"
   ]
  },
  {
   "cell_type": "code",
   "execution_count": 41,
   "id": "caroline-caution",
   "metadata": {},
   "outputs": [
    {
     "name": "stderr",
     "output_type": "stream",
     "text": [
      "D:\\Anaconda\\lib\\site-packages\\ipykernel_launcher.py:40: MatplotlibDeprecationWarning: The 's' parameter of annotate() has been renamed 'text' since Matplotlib 3.3; support for the old name will be dropped two minor releases later.\n",
      "D:\\Anaconda\\lib\\site-packages\\ipykernel_launcher.py:41: MatplotlibDeprecationWarning: The 's' parameter of annotate() has been renamed 'text' since Matplotlib 3.3; support for the old name will be dropped two minor releases later.\n",
      "D:\\Anaconda\\lib\\site-packages\\ipykernel_launcher.py:42: MatplotlibDeprecationWarning: The 's' parameter of annotate() has been renamed 'text' since Matplotlib 3.3; support for the old name will be dropped two minor releases later.\n"
     ]
    },
    {
     "data": {
      "image/png": "[encoded data removed]",
      "text/plain": [
       "<Figure size 432x288 with 1 Axes>"
      ]
     },
     "metadata": {
      "needs_background": "light"
     },
     "output_type": "display_data"
    }
   ],
   "source": [
    "df_new['wealth_segment'].value_counts()\n",
    "\n",
    "a1_m=dict(df_new['wealth_segment'][df_new['Age']<=g1][df_new['gender']=='Male'].value_counts())\n",
    "a1_m\n",
    "\n",
    "a3_m=dict(df_new['wealth_segment'][df_new['Age']>mean][df_new['gender']=='Male'].value_counts())\n",
    "a3_m\n",
    "\n",
    "a3_f=dict(df_new['wealth_segment'][df_new['Age']>mean][df_new['gender']=='Female'].value_counts())\n",
    "a3_f\n",
    "\n",
    "a1_f=dict(df_new['wealth_segment'][df_new['Age']<=g1][df_new['gender']=='Female'].value_counts())\n",
    "a1_f\n",
    "\n",
    "a2_={'Mass Customer':414-(a1_m['Mass Customer']+a3_m['Mass Customer']+a1_f['Mass Customer']+a3_f['Mass Customer']),\n",
    "         'High Net Worth':206-(a1_m['High Net Worth']+a3_m['High Net Worth']+a1_f['High Net Worth']+a3_f['High Net Worth']),\n",
    "         'Affluent Customer':198-(a1_m['Affluent Customer']+a3_m['Affluent Customer']+a1_f['Affluent Customer']+a3_f['Affluent Customer'])}\n",
    "a2_\n",
    "\n",
    "age1_w=[a1_m['Mass Customer']+a1_f['Mass Customer'],a2_['Mass Customer'],a3_m['Mass Customer']+a3_f['Mass Customer']]\n",
    "age2_w=[a1_m['High Net Worth']+a1_f['High Net Worth'],a2_['High Net Worth'],a3_m['High Net Worth']+a3_f['High Net Worth']]\n",
    "age3_w=[a1_m['Affluent Customer']+a1_f['Affluent Customer'],a2_['Affluent Customer'],a3_m['Affluent Customer']+a3_f['Affluent Customer']]\n",
    "\n",
    "\n",
    "age_w=np.arange(3)\n",
    "colors=['yellow','red','blue']\n",
    "labels=['Mass Customer','High Net Worth','Affluent Customer']\n",
    "plt.bar(age_w-0.25,age1_w,width=0.2,label=labels[0])\n",
    "plt.bar(age_w,age2_w,width=0.2,label=labels[1])\n",
    "plt.bar(age_w+0.25,age3_w,width=0.2,label=labels[2])\n",
    "\n",
    "\n",
    "age_range=['<=30','>30 and <=42','>42']\n",
    "plt.xticks(age_w,age_range)\n",
    "plt.ylabel('No of people')\n",
    "plt.xlabel('Age Range')\n",
    "plt.legend()\n",
    "plt.title('Distribution by wealth and gender')\n",
    "for i in range(len(age_w)):\n",
    "    plt.annotate(s=age1_w[i],xy=(age_w[i]-0.25,age1_w[i]),horizontalalignment='center')\n",
    "    plt.annotate(s=age2_w[i],xy=(age_w[i],age2_w[i]),horizontalalignment='center')\n",
    "    plt.annotate(s=age3_w[i],xy=(age_w[i]+0.25,age3_w[i]),horizontalalignment='center')\n",
    "\n"
   ]
  }
 ],
 "metadata": {
  "kernelspec": {
   "display_name": "Python 3",
   "language": "python",
   "name": "python3"
  },
  "language_info": {
   "codemirror_mode": {
    "name": "ipython",
    "version": 3
   },
   "file_extension": ".py",
   "mimetype": "text/x-python",
   "name": "python",
   "nbconvert_exporter": "python",
   "pygments_lexer": "ipython3",
   "version": "3.7.6"
  }
 },
 "nbformat": 4,
 "nbformat_minor": 5
}
